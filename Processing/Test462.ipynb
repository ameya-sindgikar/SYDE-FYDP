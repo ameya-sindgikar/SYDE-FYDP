{
 "cells": [
  {
   "cell_type": "code",
   "execution_count": 27,
   "metadata": {
    "collapsed": false
   },
   "outputs": [],
   "source": [
    "import json\n",
    "from pprint import pprint\n",
    "\n",
    "with open ('XYexp1.json') as dataFile:\n",
    "    rawData = json.load(dataFile)\n"
   ]
  },
  {
   "cell_type": "code",
   "execution_count": 14,
   "metadata": {
    "collapsed": false
   },
   "outputs": [
    {
     "name": "stdout",
     "output_type": "stream",
     "text": [
      "155\n"
     ]
    }
   ],
   "source": [
    "jsonSize = len(rawData)\n",
    "print jsonSize"
   ]
  },
  {
   "cell_type": "code",
   "execution_count": 30,
   "metadata": {
    "collapsed": false
   },
   "outputs": [],
   "source": [
    "for i in rawData:\n",
    "    dataArray = i['data']\n",
    "    \n",
    "    aX = dataArray[0]\n",
    "    aY = dataArray[1]\n",
    "    aZ = dataArray[2]\n",
    "    aAcc = dataArray[3]\n",
    "    gX = dataArray[4]\n",
    "    gY = dataArray[5]\n",
    "    gZ = dataArray[6]\n",
    "    aPitch = dataArray[7]\n",
    "    aRoll = dataArray[8]\n",
    "    altMeters = dataArray[9]\n",
    "   "
   ]
  },
  {
   "cell_type": "code",
   "execution_count": null,
   "metadata": {
    "collapsed": true
   },
   "outputs": [],
   "source": []
  }
 ],
 "metadata": {
  "kernelspec": {
   "display_name": "Python [default]",
   "language": "python",
   "name": "python2"
  },
  "language_info": {
   "codemirror_mode": {
    "name": "ipython",
    "version": 2
   },
   "file_extension": ".py",
   "mimetype": "text/x-python",
   "name": "python",
   "nbconvert_exporter": "python",
   "pygments_lexer": "ipython2",
   "version": "2.7.12"
  }
 },
 "nbformat": 4,
 "nbformat_minor": 1
}
