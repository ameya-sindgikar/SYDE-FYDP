{
 "cells": [
  {
   "cell_type": "code",
   "execution_count": 1,
   "metadata": {
    "collapsed": false
   },
   "outputs": [
    {
     "name": "stdout",
     "output_type": "stream",
     "text": [
      "(2211L, 10L)\n"
     ]
    }
   ],
   "source": [
    "import pymongo\n",
    "import numpy as np\n",
    "\n",
    "#Connect to mongoDB and get data from collection\n",
    "client = pymongo.MongoClient() \n",
    "db = client.TrainingDataDB \n",
    "\n",
    "currentExpData = []\n",
    "for i in range(1,16):\n",
    "    expCollectionName = \"TakeOffExp\"+str(i)\n",
    "    \n",
    "    expCollection = db[expCollectionName]\n",
    "    \n",
    "    expDocuments = expCollection.find({})\n",
    "    \n",
    "    for expDocument in expDocuments:\n",
    "        expDataArray = expDocument['data']\n",
    "        currentExpData.append(expDataArray)\n",
    "\n",
    "#print currentExpData\n",
    "\n",
    "expertDataArray = np.array(currentExpData)\n",
    "print expertDataArray.shape\n"
   ]
  },
  {
   "cell_type": "code",
   "execution_count": 2,
   "metadata": {
    "collapsed": false
   },
   "outputs": [
    {
     "name": "stdout",
     "output_type": "stream",
     "text": [
      "(148L, 10L)\n"
     ]
    }
   ],
   "source": [
    "currentNovData = []      \n",
    "for j in range (1,3):\n",
    "    novCollectionName = \"TakeOffNov\"+str(j)\n",
    "    \n",
    "    novCollection = db[novCollectionName]\n",
    "    \n",
    "    novDocuments = novCollection.find({})\n",
    "    \n",
    "    for novDocument in novDocuments:\n",
    "        novDataArray = novDocument['data']\n",
    "        currentNovData.append(novDataArray)\n",
    "\n",
    "#print currentNovData\n",
    "\n",
    "noviceDataArray = np.array(currentNovData)\n",
    "print noviceDataArray.shape"
   ]
  },
  {
   "cell_type": "code",
   "execution_count": 3,
   "metadata": {
    "collapsed": false
   },
   "outputs": [
    {
     "data": {
      "text/plain": [
       "(2359L, 10L)"
      ]
     },
     "execution_count": 3,
     "metadata": {},
     "output_type": "execute_result"
    }
   ],
   "source": [
    "#Consolidate all data \n",
    "allData = np.concatenate((expertDataArray,noviceDataArray), axis=0)\n",
    "allData.shape"
   ]
  },
  {
   "cell_type": "code",
   "execution_count": 4,
   "metadata": {
    "collapsed": false,
    "scrolled": true
   },
   "outputs": [
    {
     "name": "stdout",
     "output_type": "stream",
     "text": [
      "[ 0.  0.  0. ...,  1.  1.  1.]\n"
     ]
    }
   ],
   "source": [
    "#Create labels\n",
    "expert_rows, expert_columns = expertDataArray.shape\n",
    "#print expert_rows\n",
    "\n",
    "expert_labels = np.zeros(expert_rows,)\n",
    "#print expert_labels\n",
    "\n",
    "novice_rows, novice_columns = noviceDataArray.shape\n",
    "#print novice_rows\n",
    "\n",
    "novice_labels = np.ones(novice_rows,)\n",
    "#print novice_labels\n",
    "\n",
    "all_labels = np.concatenate((expert_labels,novice_labels), axis=0)\n",
    "print all_labels"
   ]
  },
  {
   "cell_type": "code",
   "execution_count": 5,
   "metadata": {
    "collapsed": false,
    "scrolled": true
   },
   "outputs": [],
   "source": [
    "from sklearn import preprocessing, cross_validation, neighbors, svm\n",
    "\n",
    "Data_train, Data_test, Labels_train, Labels_test = cross_validation.train_test_split(allData, all_labels, test_size=0.2)\n",
    "clf = svm.SVC(kernel='linear', C = 1.0)"
   ]
  },
  {
   "cell_type": "code",
   "execution_count": 6,
   "metadata": {
    "collapsed": false
   },
   "outputs": [
    {
     "data": {
      "text/plain": [
       "SVC(C=1.0, cache_size=200, class_weight=None, coef0=0.0,\n",
       "  decision_function_shape=None, degree=3, gamma='auto', kernel='linear',\n",
       "  max_iter=-1, probability=False, random_state=None, shrinking=True,\n",
       "  tol=0.001, verbose=False)"
      ]
     },
     "execution_count": 6,
     "metadata": {},
     "output_type": "execute_result"
    }
   ],
   "source": [
    "#Fit the training data\n",
    "clf.fit(Data_train, Labels_train)"
   ]
  },
  {
   "cell_type": "code",
   "execution_count": 7,
   "metadata": {
    "collapsed": false
   },
   "outputs": [
    {
     "data": {
      "text/plain": [
       "SVC(C=1.0, cache_size=200, class_weight=None, coef0=0.0,\n",
       "  decision_function_shape=None, degree=3, gamma='auto', kernel='linear',\n",
       "  max_iter=-1, probability=False, random_state=None, shrinking=True,\n",
       "  tol=0.001, verbose=False)"
      ]
     },
     "execution_count": 7,
     "metadata": {},
     "output_type": "execute_result"
    }
   ],
   "source": [
    "#Fit test data\n",
    "clf.fit(Data_test, Labels_test)"
   ]
  },
  {
   "cell_type": "code",
   "execution_count": 8,
   "metadata": {
    "collapsed": true
   },
   "outputs": [],
   "source": [
    "clf = svm.SVC(kernel='linear', C=1).fit(Data_train, Labels_train)"
   ]
  },
  {
   "cell_type": "code",
   "execution_count": 13,
   "metadata": {
    "collapsed": false
   },
   "outputs": [
    {
     "name": "stdout",
     "output_type": "stream",
     "text": [
      "0.947033898305\n"
     ]
    }
   ],
   "source": [
    "#Get results from cross validation\n",
    "cross_val_score = clf.score(Data_test, Labels_test)\n",
    "print cross_val_score\n"
   ]
  },
  {
   "cell_type": "code",
   "execution_count": 16,
   "metadata": {
    "collapsed": false,
    "scrolled": false
   },
   "outputs": [],
   "source": [
    "#Output detailed results\n",
    "#from sklearn.model_selection import cross_val_score\n",
    "#clf = svm.SVC(kernel='linear', C=1)\n",
    "#scores = cross_val_score(clf, allData, all_labels, cv=5)\n",
    "#print scores"
   ]
  },
  {
   "cell_type": "code",
   "execution_count": 14,
   "metadata": {
    "collapsed": false
   },
   "outputs": [
    {
     "data": {
      "text/plain": [
       "ObjectId('58c4b05c352a601acc6e57c0')"
      ]
     },
     "execution_count": 14,
     "metadata": {},
     "output_type": "execute_result"
    }
   ],
   "source": [
    "#Post cross validation score to DB\n",
    "\n",
    "db = client.ResultsDataDB\n",
    "\n",
    "name = \"Cross Validation Score\"\n",
    "date = \"Mar 11\"\n",
    "item = {\n",
    "        \"Name\": name,\n",
    "        \"Result\": result,\n",
    "        \"Date\": date,\n",
    "        \"X-Val Score\": cross_val_score\n",
    "    }\n",
    "result = db.ClassificationResults.insert_one(item)\n",
    "result.inserted_id"
   ]
  },
  {
   "cell_type": "code",
   "execution_count": null,
   "metadata": {
    "collapsed": true
   },
   "outputs": [],
   "source": []
  }
 ],
 "metadata": {
  "anaconda-cloud": {},
  "kernelspec": {
   "display_name": "Python [default]",
   "language": "python",
   "name": "python2"
  },
  "language_info": {
   "codemirror_mode": {
    "name": "ipython",
    "version": 2
   },
   "file_extension": ".py",
   "mimetype": "text/x-python",
   "name": "python",
   "nbconvert_exporter": "python",
   "pygments_lexer": "ipython2",
   "version": "2.7.12"
  }
 },
 "nbformat": 4,
 "nbformat_minor": 1
}
