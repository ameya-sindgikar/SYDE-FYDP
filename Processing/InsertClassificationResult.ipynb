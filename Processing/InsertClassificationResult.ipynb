{
 "cells": [
  {
   "cell_type": "code",
   "execution_count": 5,
   "metadata": {
    "collapsed": false
   },
   "outputs": [
    {
     "data": {
      "text/plain": [
       "ObjectId('58ba69b7352a60259441d967')"
      ]
     },
     "execution_count": 5,
     "metadata": {},
     "output_type": "execute_result"
    }
   ],
   "source": [
    "import pymongo\n",
    "\n",
    "client = pymongo.MongoClient() \n",
    "db = client.ResultsDataDB\n",
    "\n",
    "name = \"Tester\"\n",
    "date = \"Jan1\"\n",
    "result = \"Pass\"\n",
    "\n",
    "collectionName = name+date\n",
    "\n",
    "item = {\n",
    "        \"Name\": name,\n",
    "        \"Result\": result,\n",
    "        \"Date\": date\n",
    "    }\n",
    "\n",
    "result = db[collectionName].insert_one(item)\n",
    "\n",
    "result.inserted_id\n"
   ]
  },
  {
   "cell_type": "code",
   "execution_count": null,
   "metadata": {
    "collapsed": true
   },
   "outputs": [],
   "source": []
  }
 ],
 "metadata": {
  "anaconda-cloud": {},
  "kernelspec": {
   "display_name": "Python [default]",
   "language": "python",
   "name": "python2"
  },
  "language_info": {
   "codemirror_mode": {
    "name": "ipython",
    "version": 2
   },
   "file_extension": ".py",
   "mimetype": "text/x-python",
   "name": "python",
   "nbconvert_exporter": "python",
   "pygments_lexer": "ipython2",
   "version": "2.7.12"
  }
 },
 "nbformat": 4,
 "nbformat_minor": 1
}
