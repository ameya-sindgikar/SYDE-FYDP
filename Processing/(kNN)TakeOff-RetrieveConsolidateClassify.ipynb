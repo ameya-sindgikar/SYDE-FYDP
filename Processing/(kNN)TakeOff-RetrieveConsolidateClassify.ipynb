{
 "cells": [
  {
   "cell_type": "code",
   "execution_count": 17,
   "metadata": {
    "collapsed": false
   },
   "outputs": [
    {
     "name": "stdout",
     "output_type": "stream",
     "text": [
      "(2211L, 10L)\n"
     ]
    }
   ],
   "source": [
    "import pymongo\n",
    "import numpy as np\n",
    "\n",
    "#Connect to mongoDB and get data from collection\n",
    "client = pymongo.MongoClient() \n",
    "db = client.TrainingDataDB \n",
    "\n",
    "currentExpData = []\n",
    "for i in range(1,16):\n",
    "    expCollectionName = \"TakeOffExp\"+str(i)\n",
    "    \n",
    "    expCollection = db[expCollectionName]\n",
    "    \n",
    "    expDocuments = expCollection.find({})\n",
    "    \n",
    "    for expDocument in expDocuments:\n",
    "        expDataArray = expDocument['data']\n",
    "        currentExpData.append(expDataArray)\n",
    "\n",
    "#print currentExpData\n",
    "\n",
    "expertDataArray = np.array(currentExpData)\n",
    "print expertDataArray.shape"
   ]
  },
  {
   "cell_type": "code",
   "execution_count": 18,
   "metadata": {
    "collapsed": false
   },
   "outputs": [
    {
     "name": "stdout",
     "output_type": "stream",
     "text": [
      "(148L, 10L)\n"
     ]
    }
   ],
   "source": [
    "currentNovData = []      \n",
    "for j in range (1,3):\n",
    "    novCollectionName = \"TakeOffNov\"+str(j)\n",
    "    \n",
    "    novCollection = db[novCollectionName]\n",
    "    \n",
    "    novDocuments = novCollection.find({})\n",
    "    \n",
    "    for novDocument in novDocuments:\n",
    "        novDataArray = novDocument['data']\n",
    "        currentNovData.append(novDataArray)\n",
    "\n",
    "#print currentNovData\n",
    "\n",
    "noviceDataArray = np.array(currentNovData)\n",
    "print noviceDataArray.shape"
   ]
  },
  {
   "cell_type": "code",
   "execution_count": 19,
   "metadata": {
    "collapsed": false
   },
   "outputs": [
    {
     "data": {
      "text/plain": [
       "(2359L, 10L)"
      ]
     },
     "execution_count": 19,
     "metadata": {},
     "output_type": "execute_result"
    }
   ],
   "source": [
    "#Consolidate all data \n",
    "allData = np.concatenate((expertDataArray,noviceDataArray), axis=0)\n",
    "allData.shape"
   ]
  },
  {
   "cell_type": "code",
   "execution_count": 20,
   "metadata": {
    "collapsed": false
   },
   "outputs": [
    {
     "name": "stdout",
     "output_type": "stream",
     "text": [
      "[ 0.  0.  0. ...,  1.  1.  1.]\n"
     ]
    }
   ],
   "source": [
    "#Create labels\n",
    "expert_rows, expert_columns = expertDataArray.shape\n",
    "#print expert_rows\n",
    "\n",
    "expert_labels = np.zeros(expert_rows,)\n",
    "#print expert_labels\n",
    "\n",
    "novice_rows, novice_columns = noviceDataArray.shape\n",
    "#print novice_rows\n",
    "\n",
    "novice_labels = np.ones(novice_rows,)\n",
    "#print novice_labels\n",
    "\n",
    "all_labels = np.concatenate((expert_labels,novice_labels), axis=0)\n",
    "print all_labels"
   ]
  },
  {
   "cell_type": "code",
   "execution_count": 21,
   "metadata": {
    "collapsed": false
   },
   "outputs": [
    {
     "data": {
      "text/plain": [
       "KNeighborsClassifier(algorithm='auto', leaf_size=30, metric='minkowski',\n",
       "           metric_params=None, n_jobs=1, n_neighbors=5, p=2,\n",
       "           weights='uniform')"
      ]
     },
     "execution_count": 21,
     "metadata": {},
     "output_type": "execute_result"
    }
   ],
   "source": [
    "from sklearn import preprocessing, cross_validation, neighbors, svm\n",
    "\n",
    "Data_train, Data_test, Labels_train, Labels_test = cross_validation.train_test_split(allData, all_labels, test_size=0.2)\n",
    "clf = neighbors.KNeighborsClassifier()\n",
    "clf.fit(Data_train, Labels_train)"
   ]
  },
  {
   "cell_type": "code",
   "execution_count": 22,
   "metadata": {
    "collapsed": false
   },
   "outputs": [
    {
     "data": {
      "text/plain": [
       "KNeighborsClassifier(algorithm='auto', leaf_size=30, metric='minkowski',\n",
       "           metric_params=None, n_jobs=1, n_neighbors=5, p=2,\n",
       "           weights='uniform')"
      ]
     },
     "execution_count": 22,
     "metadata": {},
     "output_type": "execute_result"
    }
   ],
   "source": [
    "#Fit test data\n",
    "clf.fit(Data_test, Labels_test)"
   ]
  },
  {
   "cell_type": "code",
   "execution_count": 23,
   "metadata": {
    "collapsed": false
   },
   "outputs": [
    {
     "name": "stdout",
     "output_type": "stream",
     "text": [
      "0.96186440678\n"
     ]
    }
   ],
   "source": [
    "#Get results from cross validation\n",
    "cross_val_score = clf.score(Data_test, Labels_test)\n",
    "print cross_val_score"
   ]
  },
  {
   "cell_type": "code",
   "execution_count": null,
   "metadata": {
    "collapsed": true
   },
   "outputs": [],
   "source": []
  }
 ],
 "metadata": {
  "kernelspec": {
   "display_name": "Python [default]",
   "language": "python",
   "name": "python2"
  },
  "language_info": {
   "codemirror_mode": {
    "name": "ipython",
    "version": 2
   },
   "file_extension": ".py",
   "mimetype": "text/x-python",
   "name": "python",
   "nbconvert_exporter": "python",
   "pygments_lexer": "ipython2",
   "version": "2.7.12"
  }
 },
 "nbformat": 4,
 "nbformat_minor": 1
}
