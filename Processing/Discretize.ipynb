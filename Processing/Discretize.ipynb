{
 "cells": [
  {
   "cell_type": "code",
   "execution_count": 1,
   "metadata": {
    "collapsed": false
   },
   "outputs": [],
   "source": [
    "import pymongo\n",
    "import numpy as np\n",
    "\n",
    "#Connect to mongoDB and get data from collection\n",
    "client = pymongo.MongoClient() \n",
    "db = client.TrainingDataDB \n",
    "\n",
    "currentExpData = []\n",
    "currentNovData = []\n",
    "for i in range(1,6):\n",
    "    expCollectionName = \"XYexp\"+str(i)\n",
    "    novCollectionName = \"XYnov\"+str(i)\n",
    "    \n",
    "    expCollection = db[expCollectionName]\n",
    "    novCollection = db[novCollectionName]\n",
    "    \n",
    "    expDocuments = expCollection.find({})\n",
    "    novDocuments = novCollection.find({})\n",
    "    \n",
    "    for expDocument in expDocuments:\n",
    "        expDataArray = expDocument['data']\n",
    "        currentExpData.append(expDataArray)\n",
    "    for novDocument in novDocuments:\n",
    "        novDataArray = novDocument['data']\n",
    "        currentNovData.append(novDataArray)\n",
    "        \n",
    "#print currentExpData"
   ]
  },
  {
   "cell_type": "code",
   "execution_count": 2,
   "metadata": {
    "collapsed": false
   },
   "outputs": [
    {
     "name": "stdout",
     "output_type": "stream",
     "text": [
      "[[ -4.00000000e-02   6.00000000e-02  -9.90000000e-01 ...,  -2.31000000e+00\n",
      "    3.47000000e+00   3.32400000e+02]\n",
      " [ -6.00000000e-02   5.00000000e-02  -9.80000000e-01 ...,  -3.50000000e+00\n",
      "    2.92000000e+00   3.32400000e+02]\n",
      " [ -5.00000000e-02   6.00000000e-02  -9.90000000e-01 ...,  -2.89000000e+00\n",
      "    3.46000000e+00   3.32400000e+02]\n",
      " ..., \n",
      " [ -1.60000000e-01   1.40000000e-01  -9.00000000e-01 ...,  -9.96000000e+00\n",
      "    8.71000000e+00   3.33100000e+02]\n",
      " [ -1.90000000e-01   2.10000000e-01  -9.50000000e-01 ...,  -1.10500000e+01\n",
      "    1.22300000e+01   3.33100000e+02]\n",
      " [ -1.80000000e-01   2.10000000e-01  -9.50000000e-01 ...,  -1.04800000e+01\n",
      "    1.22500000e+01   3.33100000e+02]]\n"
     ]
    }
   ],
   "source": [
    "expertDataArray = np.array(currentExpData)\n",
    "print expertDataArray"
   ]
  },
  {
   "cell_type": "code",
   "execution_count": 3,
   "metadata": {
    "collapsed": false,
    "scrolled": true
   },
   "outputs": [
    {
     "data": {
      "text/plain": [
       "(729L, 10L)"
      ]
     },
     "execution_count": 3,
     "metadata": {},
     "output_type": "execute_result"
    }
   ],
   "source": [
    "expertDataArray.shape"
   ]
  },
  {
   "cell_type": "code",
   "execution_count": 4,
   "metadata": {
    "collapsed": false,
    "scrolled": true
   },
   "outputs": [
    {
     "name": "stdout",
     "output_type": "stream",
     "text": [
      "[[ -4.00000000e-02   1.00000000e-02  -9.70000000e-01 ...,  -2.36000000e+00\n",
      "    5.90000000e-01   3.32500000e+02]\n",
      " [ -3.00000000e-02   1.00000000e-02  -9.90000000e-01 ...,  -1.74000000e+00\n",
      "    5.80000000e-01   3.32500000e+02]\n",
      " [ -4.00000000e-02   1.00000000e-02  -9.90000000e-01 ...,  -2.31000000e+00\n",
      "    5.80000000e-01   3.32500000e+02]\n",
      " ..., \n",
      " [ -3.20000000e-01   1.90000000e-01  -8.90000000e-01 ...,  -1.93700000e+01\n",
      "    1.13600000e+01   3.33800000e+02]\n",
      " [ -3.60000000e-01   1.50000000e-01  -8.20000000e-01 ...,  -2.33600000e+01\n",
      "    9.51000000e+00   3.33800000e+02]\n",
      " [ -1.70000000e-01   1.00000000e-02  -9.30000000e-01 ...,  -1.03600000e+01\n",
      "    6.10000000e-01   3.33800000e+02]]\n"
     ]
    }
   ],
   "source": [
    "noviceDataArray = np.array(currentNovData)\n",
    "print noviceDataArray"
   ]
  },
  {
   "cell_type": "code",
   "execution_count": 5,
   "metadata": {
    "collapsed": false
   },
   "outputs": [
    {
     "data": {
      "text/plain": [
       "(1016L, 10L)"
      ]
     },
     "execution_count": 5,
     "metadata": {},
     "output_type": "execute_result"
    }
   ],
   "source": [
    "noviceDataArray.shape"
   ]
  },
  {
   "cell_type": "code",
   "execution_count": 6,
   "metadata": {
    "collapsed": true
   },
   "outputs": [],
   "source": [
    "discNoviceData = [noviceDataArray[x:x+30] for x in range(0, len(noviceDataArray), 30)]"
   ]
  },
  {
   "cell_type": "code",
   "execution_count": 7,
   "metadata": {
    "collapsed": false,
    "scrolled": false
   },
   "outputs": [],
   "source": [
    "#print discNoviceData"
   ]
  },
  {
   "cell_type": "code",
   "execution_count": 8,
   "metadata": {
    "collapsed": false
   },
   "outputs": [
    {
     "data": {
      "text/plain": [
       "34"
      ]
     },
     "execution_count": 8,
     "metadata": {},
     "output_type": "execute_result"
    }
   ],
   "source": [
    "len(discNoviceData)"
   ]
  },
  {
   "cell_type": "code",
   "execution_count": 9,
   "metadata": {
    "collapsed": true
   },
   "outputs": [],
   "source": [
    "discExpertData = [expertDataArray[x:x+30] for x in range(0, len(expertDataArray), 30)]"
   ]
  },
  {
   "cell_type": "code",
   "execution_count": 10,
   "metadata": {
    "collapsed": false,
    "scrolled": true
   },
   "outputs": [],
   "source": [
    "#print discExpertData"
   ]
  },
  {
   "cell_type": "code",
   "execution_count": 11,
   "metadata": {
    "collapsed": false
   },
   "outputs": [
    {
     "data": {
      "text/plain": [
       "25"
      ]
     },
     "execution_count": 11,
     "metadata": {},
     "output_type": "execute_result"
    }
   ],
   "source": [
    "len(discExpertData)"
   ]
  },
  {
   "cell_type": "code",
   "execution_count": 19,
   "metadata": {
    "collapsed": false
   },
   "outputs": [],
   "source": [
    "novicePitchData = noviceDataArray[:,7]"
   ]
  },
  {
   "cell_type": "code",
   "execution_count": 20,
   "metadata": {
    "collapsed": false
   },
   "outputs": [
    {
     "name": "stdout",
     "output_type": "stream",
     "text": [
      "[ -2.36  -1.74  -2.31 ..., -19.37 -23.36 -10.36]\n"
     ]
    }
   ],
   "source": [
    "print novicePitchData"
   ]
  },
  {
   "cell_type": "code",
   "execution_count": null,
   "metadata": {
    "collapsed": true
   },
   "outputs": [],
   "source": []
  }
 ],
 "metadata": {
  "anaconda-cloud": {},
  "kernelspec": {
   "display_name": "Python [default]",
   "language": "python",
   "name": "python2"
  },
  "language_info": {
   "codemirror_mode": {
    "name": "ipython",
    "version": 2
   },
   "file_extension": ".py",
   "mimetype": "text/x-python",
   "name": "python",
   "nbconvert_exporter": "python",
   "pygments_lexer": "ipython2",
   "version": "2.7.12"
  }
 },
 "nbformat": 4,
 "nbformat_minor": 1
}
