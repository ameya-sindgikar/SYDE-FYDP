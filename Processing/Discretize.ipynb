{
 "cells": [
  {
   "cell_type": "code",
   "execution_count": 8,
   "metadata": {
    "collapsed": false
   },
   "outputs": [],
   "source": [
    "import pymongo\n",
    "import numpy as np\n",
    "\n",
    "#Connect to mongoDB and get data from collection\n",
    "client = pymongo.MongoClient() \n",
    "db = client.TrainingDataDB \n",
    "\n",
    "currentExpData = []\n",
    "for i in range(1,6):\n",
    "    expCollectionName = \"XYexp\"+str(i)\n",
    "    expCollection = db[expCollectionName]\n",
    "    expDocuments = expCollection.find({})\n",
    "    for document in expDocuments:\n",
    "        dataArray = document['data']\n",
    "        currentExpData.append(dataArray)\n",
    "        \n",
    "#print currentExpData"
   ]
  },
  {
   "cell_type": "code",
   "execution_count": 10,
   "metadata": {
    "collapsed": false
   },
   "outputs": [
    {
     "name": "stdout",
     "output_type": "stream",
     "text": [
      "[[ -4.00000000e-02   6.00000000e-02  -9.90000000e-01 ...,  -2.31000000e+00\n",
      "    3.47000000e+00   3.32400000e+02]\n",
      " [ -6.00000000e-02   5.00000000e-02  -9.80000000e-01 ...,  -3.50000000e+00\n",
      "    2.92000000e+00   3.32400000e+02]\n",
      " [ -5.00000000e-02   6.00000000e-02  -9.90000000e-01 ...,  -2.89000000e+00\n",
      "    3.46000000e+00   3.32400000e+02]\n",
      " ..., \n",
      " [ -1.60000000e-01   1.40000000e-01  -9.00000000e-01 ...,  -9.96000000e+00\n",
      "    8.71000000e+00   3.33100000e+02]\n",
      " [ -1.90000000e-01   2.10000000e-01  -9.50000000e-01 ...,  -1.10500000e+01\n",
      "    1.22300000e+01   3.33100000e+02]\n",
      " [ -1.80000000e-01   2.10000000e-01  -9.50000000e-01 ...,  -1.04800000e+01\n",
      "    1.22500000e+01   3.33100000e+02]]\n"
     ]
    }
   ],
   "source": [
    "expertDataArray = np.array(currentExpData)\n",
    "print expertDataArray"
   ]
  },
  {
   "cell_type": "code",
   "execution_count": 11,
   "metadata": {
    "collapsed": false
   },
   "outputs": [
    {
     "data": {
      "text/plain": [
       "(729L, 10L)"
      ]
     },
     "execution_count": 11,
     "metadata": {},
     "output_type": "execute_result"
    }
   ],
   "source": [
    "expertDataArray.shape"
   ]
  },
  {
   "cell_type": "code",
   "execution_count": null,
   "metadata": {
    "collapsed": true
   },
   "outputs": [],
   "source": []
  }
 ],
 "metadata": {
  "anaconda-cloud": {},
  "kernelspec": {
   "display_name": "Python [default]",
   "language": "python",
   "name": "python2"
  },
  "language_info": {
   "codemirror_mode": {
    "name": "ipython",
    "version": 2
   },
   "file_extension": ".py",
   "mimetype": "text/x-python",
   "name": "python",
   "nbconvert_exporter": "python",
   "pygments_lexer": "ipython2",
   "version": "2.7.12"
  }
 },
 "nbformat": 4,
 "nbformat_minor": 1
}
