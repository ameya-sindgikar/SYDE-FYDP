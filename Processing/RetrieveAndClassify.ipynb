{
 "cells": [
  {
   "cell_type": "code",
   "execution_count": 13,
   "metadata": {
    "collapsed": false
   },
   "outputs": [],
   "source": [
    "import pymongo\n",
    "import numpy as np\n",
    "\n",
    "#Connect to mongoDB and get data from collection\n",
    "client = pymongo.MongoClient() \n",
    "db = client.TrainingDataDB \n",
    "collection = db['TakeOffExp1'] \n",
    "documents = collection.find({})\n",
    "numDocuments = documents.count()\n",
    "#print numDocuments\n",
    "\n",
    "currentData = []\n",
    "for document in documents:\n",
    "    dataArray = document['data']\n",
    "    currentData.append(dataArray)  \n",
    "#print currentData\n"
   ]
  },
  {
   "cell_type": "code",
   "execution_count": null,
   "metadata": {
    "collapsed": true
   },
   "outputs": [],
   "source": []
  }
 ],
 "metadata": {
  "kernelspec": {
   "display_name": "Python [default]",
   "language": "python",
   "name": "python2"
  },
  "language_info": {
   "codemirror_mode": {
    "name": "ipython",
    "version": 2
   },
   "file_extension": ".py",
   "mimetype": "text/x-python",
   "name": "python",
   "nbconvert_exporter": "python",
   "pygments_lexer": "ipython2",
   "version": "2.7.12"
  }
 },
 "nbformat": 4,
 "nbformat_minor": 1
}
